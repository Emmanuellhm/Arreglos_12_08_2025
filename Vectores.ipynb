{
  "nbformat": 4,
  "nbformat_minor": 0,
  "metadata": {
    "colab": {
      "provenance": [],
      "authorship_tag": "ABX9TyNrh3P31XuL93mpENoLTbvI",
      "include_colab_link": true
    },
    "kernelspec": {
      "name": "python3",
      "display_name": "Python 3"
    },
    "language_info": {
      "name": "python"
    }
  },
  "cells": [
    {
      "cell_type": "markdown",
      "metadata": {
        "id": "view-in-github",
        "colab_type": "text"
      },
      "source": [
        "<a href=\"https://colab.research.google.com/github/Emmanuellhm/Arreglos_12_08_2025/blob/main/Vectores.ipynb\" target=\"_parent\"><img src=\"https://colab.research.google.com/assets/colab-badge.svg\" alt=\"Open In Colab\"/></a>"
      ]
    },
    {
      "cell_type": "code",
      "execution_count": 4,
      "metadata": {
        "colab": {
          "base_uri": "https://localhost:8080/"
        },
        "id": "GBRpmBQxGZu1",
        "outputId": "d19ffe76-dc97-42f4-ee9c-129ca7427202"
      },
      "outputs": [
        {
          "output_type": "stream",
          "name": "stdout",
          "text": [
            "[0. 0. 0. 0. 0.]\n",
            "[1. 1. 1. 1. 1.]\n",
            "rango [1 2 3 4 5 6 7 8 9]\n",
            "linspace [ 1.    3.25  5.5   7.75 10.  ]\n",
            "random [0.17783667 0.16885385 0.76465908 0.30721343 0.5879071  0.73296097\n",
            " 0.74485257 0.19549565 0.36583573 0.39406933]\n",
            "randint [ 22  75  33  71  98  27  90  23  51   3   2   5  59  50  87  54  77  68\n",
            "  90  50  93  32  20  22  54  39  66  61   5  53  64  56  99 100  16  57\n",
            "  63  88   3  24  11  67  19  60  53  55  34  34  31  37  10  84   7   9\n",
            "  23  75  17  84  54  10  93  10  24  21  36  90  91  56  12  64  15  24\n",
            "   7  56  88  40  58  32  15  29   3  57  16  89  91  57  75  78  82  15\n",
            "  23  57  14  95  23  61  51  24  61  41]\n"
          ]
        }
      ],
      "source": [
        "import numpy as np # np es un alias para simplificar en nombre numpy\n",
        "vector = np.array([1, 2, 3, 4, 5,]) #Creamos un vector de numpy\n",
        "import numpy as np\n",
        "\n",
        "vector1 = np.zeros(5)  # Creamos un vector de 5 ceros\n",
        "print(vector1)\n",
        "\n",
        "vector2 = np.ones(5)  # Creamos un vector de 5 unos\n",
        "print(vector2)\n",
        "\n",
        "vector3 = np.arange(1, 10)  # Creamos un vector de rango de 1 a 10 (no incluye 10)\n",
        "print(\"rango\", vector3)\n",
        "\n",
        "vector4 = np.linspace(1, 10, 5)  # Creamos un vector de 5 intervalos entre 1 y 10\n",
        "print(\"linspace\", vector4)\n",
        "\n",
        "vector5 = np.random.rand(10)  # Creamos un vector random de 10 números aleatorios entre 0 y 1\n",
        "print(\"random\", vector5)\n",
        "\n",
        "vector6 = np.random.randint(1, 101, 100)  # Creamos un vector random de 100 números aleatorios entre 1 y 100\n",
        "print(\"randint\", vector6)"
      ]
    },
    {
      "cell_type": "code",
      "source": [
        "import numpy as np\n",
        "vector1 = np.array([1, 2, 3])\n",
        "vector2 = np.array([4, 5, 6])\n",
        "#Suma de vectores\n",
        "suma = vector1 + vector2\n",
        "print(\"suma de vectores: \", suma)\n",
        "#Multiplicacion de vectores\n",
        "producto = vector1 * vector2\n",
        "print(\"producto de vectores:\", producto)\n",
        "#Division de vectores\n",
        "division = vector1 / vector2\n",
        "print(\"division de vectores:\", division)\n",
        "#Resta de vectores\n",
        "resta = vector1 - vector2\n",
        "print(\"resta de vectores:\", resta)\n",
        "#Potencia de vectores\n",
        "potencia = vector1 **2\n",
        "print(\"/x1b[1;33m\"+\"potencia de vectores:\", potencia)"
      ],
      "metadata": {
        "colab": {
          "base_uri": "https://localhost:8080/"
        },
        "id": "r2L7KRCPGggD",
        "outputId": "64864a5d-a428-42ba-c012-bf938553fcf7"
      },
      "execution_count": 3,
      "outputs": [
        {
          "output_type": "stream",
          "name": "stdout",
          "text": [
            "suma de vectores:  [5 7 9]\n",
            "producto de vectores: [ 4 10 18]\n",
            "division de vectores: [0.25 0.4  0.5 ]\n",
            "resta de vectores: [-3 -3 -3]\n",
            "/x1b[1;33mpotencia de vectores: [1 4 9]\n"
          ]
        }
      ]
    }
  ]
}